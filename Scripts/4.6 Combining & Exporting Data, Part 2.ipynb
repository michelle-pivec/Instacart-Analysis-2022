{
 "cells": [
  {
   "cell_type": "markdown",
   "id": "6f86c73e",
   "metadata": {},
   "source": [
    "# Task 4.6, Steps 3 - 7\n",
    "#### Steps 1-2 in 4.6, Part 1"
   ]
  },
  {
   "cell_type": "code",
   "execution_count": 1,
   "id": "d1e5f664",
   "metadata": {},
   "outputs": [],
   "source": [
    "# Import Libraries\n",
    "import pandas as pd\n",
    "import numpy as np\n",
    "import os"
   ]
  },
  {
   "cell_type": "code",
   "execution_count": 2,
   "id": "571f44f5",
   "metadata": {},
   "outputs": [],
   "source": [
    "# Set path\n",
    "path = r\"C:\\Users\\miche\\Instacart Basket Analysis 2022_MP\\02 Data\""
   ]
  },
  {
   "cell_type": "code",
   "execution_count": 3,
   "id": "ad0b6987",
   "metadata": {},
   "outputs": [],
   "source": [
    "# 3 Import pkl\n",
    "orders_prior = pd.read_pickle(os.path.join(path, 'Prepared Data', 'orders_products_combined.pkl'))"
   ]
  },
  {
   "cell_type": "code",
   "execution_count": 4,
   "id": "26c7a001",
   "metadata": {},
   "outputs": [
    {
     "data": {
      "text/html": [
       "<div>\n",
       "<style scoped>\n",
       "    .dataframe tbody tr th:only-of-type {\n",
       "        vertical-align: middle;\n",
       "    }\n",
       "\n",
       "    .dataframe tbody tr th {\n",
       "        vertical-align: top;\n",
       "    }\n",
       "\n",
       "    .dataframe thead th {\n",
       "        text-align: right;\n",
       "    }\n",
       "</style>\n",
       "<table border=\"1\" class=\"dataframe\">\n",
       "  <thead>\n",
       "    <tr style=\"text-align: right;\">\n",
       "      <th></th>\n",
       "      <th>order_id</th>\n",
       "      <th>customer_id</th>\n",
       "      <th>order_number</th>\n",
       "      <th>order_day</th>\n",
       "      <th>order_hour</th>\n",
       "      <th>previous_order</th>\n",
       "      <th>product_id</th>\n",
       "      <th>add_to_cart_order</th>\n",
       "      <th>reordered</th>\n",
       "      <th>_merge</th>\n",
       "    </tr>\n",
       "  </thead>\n",
       "  <tbody>\n",
       "    <tr>\n",
       "      <th>0</th>\n",
       "      <td>2539329</td>\n",
       "      <td>1</td>\n",
       "      <td>1</td>\n",
       "      <td>2</td>\n",
       "      <td>8</td>\n",
       "      <td>NaN</td>\n",
       "      <td>26088</td>\n",
       "      <td>4</td>\n",
       "      <td>0</td>\n",
       "      <td>both</td>\n",
       "    </tr>\n",
       "    <tr>\n",
       "      <th>1</th>\n",
       "      <td>2398795</td>\n",
       "      <td>1</td>\n",
       "      <td>2</td>\n",
       "      <td>3</td>\n",
       "      <td>7</td>\n",
       "      <td>15.0</td>\n",
       "      <td>12427</td>\n",
       "      <td>3</td>\n",
       "      <td>1</td>\n",
       "      <td>both</td>\n",
       "    </tr>\n",
       "    <tr>\n",
       "      <th>2</th>\n",
       "      <td>473747</td>\n",
       "      <td>1</td>\n",
       "      <td>3</td>\n",
       "      <td>3</td>\n",
       "      <td>12</td>\n",
       "      <td>21.0</td>\n",
       "      <td>196</td>\n",
       "      <td>1</td>\n",
       "      <td>1</td>\n",
       "      <td>both</td>\n",
       "    </tr>\n",
       "    <tr>\n",
       "      <th>3</th>\n",
       "      <td>431534</td>\n",
       "      <td>1</td>\n",
       "      <td>5</td>\n",
       "      <td>4</td>\n",
       "      <td>15</td>\n",
       "      <td>28.0</td>\n",
       "      <td>196</td>\n",
       "      <td>1</td>\n",
       "      <td>1</td>\n",
       "      <td>both</td>\n",
       "    </tr>\n",
       "    <tr>\n",
       "      <th>4</th>\n",
       "      <td>3367565</td>\n",
       "      <td>1</td>\n",
       "      <td>6</td>\n",
       "      <td>2</td>\n",
       "      <td>7</td>\n",
       "      <td>19.0</td>\n",
       "      <td>12427</td>\n",
       "      <td>2</td>\n",
       "      <td>1</td>\n",
       "      <td>both</td>\n",
       "    </tr>\n",
       "  </tbody>\n",
       "</table>\n",
       "</div>"
      ],
      "text/plain": [
       "   order_id  customer_id  order_number  order_day  order_hour  previous_order  \\\n",
       "0   2539329            1             1          2           8             NaN   \n",
       "1   2398795            1             2          3           7            15.0   \n",
       "2    473747            1             3          3          12            21.0   \n",
       "3    431534            1             5          4          15            28.0   \n",
       "4   3367565            1             6          2           7            19.0   \n",
       "\n",
       "   product_id  add_to_cart_order  reordered _merge  \n",
       "0       26088                  4          0   both  \n",
       "1       12427                  3          1   both  \n",
       "2         196                  1          1   both  \n",
       "3         196                  1          1   both  \n",
       "4       12427                  2          1   both  "
      ]
     },
     "execution_count": 4,
     "metadata": {},
     "output_type": "execute_result"
    }
   ],
   "source": [
    "orders_prior.head()"
   ]
  },
  {
   "cell_type": "code",
   "execution_count": 5,
   "id": "86f0eefa",
   "metadata": {},
   "outputs": [
    {
     "data": {
      "text/plain": [
       "(6487224, 10)"
      ]
     },
     "execution_count": 5,
     "metadata": {},
     "output_type": "execute_result"
    }
   ],
   "source": [
    "# 4 Check shape\n",
    "orders_prior.shape"
   ]
  },
  {
   "cell_type": "code",
   "execution_count": 6,
   "id": "1d6ee010",
   "metadata": {},
   "outputs": [],
   "source": [
    "# Import products_clean.csv\n",
    "products = pd.read_csv(os.path.join(path, 'Prepared Data', 'products_clean.csv'), index_col = False)"
   ]
  },
  {
   "cell_type": "code",
   "execution_count": 7,
   "id": "1024fa56",
   "metadata": {},
   "outputs": [
    {
     "data": {
      "text/plain": [
       "(49672, 5)"
      ]
     },
     "execution_count": 7,
     "metadata": {},
     "output_type": "execute_result"
    }
   ],
   "source": [
    "products.shape"
   ]
  },
  {
   "cell_type": "code",
   "execution_count": 8,
   "id": "b36a0eea",
   "metadata": {},
   "outputs": [
    {
     "data": {
      "text/html": [
       "<div>\n",
       "<style scoped>\n",
       "    .dataframe tbody tr th:only-of-type {\n",
       "        vertical-align: middle;\n",
       "    }\n",
       "\n",
       "    .dataframe tbody tr th {\n",
       "        vertical-align: top;\n",
       "    }\n",
       "\n",
       "    .dataframe thead th {\n",
       "        text-align: right;\n",
       "    }\n",
       "</style>\n",
       "<table border=\"1\" class=\"dataframe\">\n",
       "  <thead>\n",
       "    <tr style=\"text-align: right;\">\n",
       "      <th></th>\n",
       "      <th>Unnamed: 0</th>\n",
       "      <th>product_id</th>\n",
       "      <th>product_name</th>\n",
       "      <th>department_id</th>\n",
       "      <th>prices</th>\n",
       "    </tr>\n",
       "  </thead>\n",
       "  <tbody>\n",
       "    <tr>\n",
       "      <th>0</th>\n",
       "      <td>0</td>\n",
       "      <td>1</td>\n",
       "      <td>Chocolate Sandwich Cookies</td>\n",
       "      <td>19</td>\n",
       "      <td>5.8</td>\n",
       "    </tr>\n",
       "    <tr>\n",
       "      <th>1</th>\n",
       "      <td>1</td>\n",
       "      <td>2</td>\n",
       "      <td>All-Seasons Salt</td>\n",
       "      <td>13</td>\n",
       "      <td>9.3</td>\n",
       "    </tr>\n",
       "    <tr>\n",
       "      <th>2</th>\n",
       "      <td>2</td>\n",
       "      <td>3</td>\n",
       "      <td>Robust Golden Unsweetened Oolong Tea</td>\n",
       "      <td>7</td>\n",
       "      <td>4.5</td>\n",
       "    </tr>\n",
       "    <tr>\n",
       "      <th>3</th>\n",
       "      <td>3</td>\n",
       "      <td>4</td>\n",
       "      <td>Smart Ones Classic Favorites Mini Rigatoni Wit...</td>\n",
       "      <td>1</td>\n",
       "      <td>10.5</td>\n",
       "    </tr>\n",
       "    <tr>\n",
       "      <th>4</th>\n",
       "      <td>4</td>\n",
       "      <td>5</td>\n",
       "      <td>Green Chile Anytime Sauce</td>\n",
       "      <td>13</td>\n",
       "      <td>4.3</td>\n",
       "    </tr>\n",
       "  </tbody>\n",
       "</table>\n",
       "</div>"
      ],
      "text/plain": [
       "   Unnamed: 0  product_id                                       product_name  \\\n",
       "0           0           1                         Chocolate Sandwich Cookies   \n",
       "1           1           2                                   All-Seasons Salt   \n",
       "2           2           3               Robust Golden Unsweetened Oolong Tea   \n",
       "3           3           4  Smart Ones Classic Favorites Mini Rigatoni Wit...   \n",
       "4           4           5                          Green Chile Anytime Sauce   \n",
       "\n",
       "   department_id  prices  \n",
       "0             19     5.8  \n",
       "1             13     9.3  \n",
       "2              7     4.5  \n",
       "3              1    10.5  \n",
       "4             13     4.3  "
      ]
     },
     "execution_count": 8,
     "metadata": {},
     "output_type": "execute_result"
    }
   ],
   "source": [
    "products.head()"
   ]
  },
  {
   "cell_type": "code",
   "execution_count": 9,
   "id": "2f909b82",
   "metadata": {},
   "outputs": [],
   "source": [
    "products = products.drop(columns = ['Unnamed: 0'])"
   ]
  },
  {
   "cell_type": "code",
   "execution_count": 10,
   "id": "ca405178",
   "metadata": {},
   "outputs": [
    {
     "data": {
      "text/plain": [
       "(49672, 4)"
      ]
     },
     "execution_count": 10,
     "metadata": {},
     "output_type": "execute_result"
    }
   ],
   "source": [
    "products.shape"
   ]
  },
  {
   "cell_type": "code",
   "execution_count": 11,
   "id": "4c5176ed",
   "metadata": {},
   "outputs": [
    {
     "data": {
      "text/plain": [
       "Index(['product_id', 'product_name', 'department_id', 'prices'], dtype='object')"
      ]
     },
     "execution_count": 11,
     "metadata": {},
     "output_type": "execute_result"
    }
   ],
   "source": [
    "products.columns"
   ]
  },
  {
   "cell_type": "code",
   "execution_count": 12,
   "id": "052ff9fb",
   "metadata": {},
   "outputs": [
    {
     "data": {
      "text/plain": [
       "Index(['order_id', 'customer_id', 'order_number', 'order_day', 'order_hour',\n",
       "       'previous_order', 'product_id', 'add_to_cart_order', 'reordered',\n",
       "       '_merge'],\n",
       "      dtype='object')"
      ]
     },
     "execution_count": 12,
     "metadata": {},
     "output_type": "execute_result"
    }
   ],
   "source": [
    "orders_prior.columns"
   ]
  },
  {
   "cell_type": "markdown",
   "id": "813d2c09",
   "metadata": {},
   "source": [
    "#### 5. The merge will use variable product_id to merge orders and products datasets."
   ]
  },
  {
   "cell_type": "code",
   "execution_count": 18,
   "id": "febc6646",
   "metadata": {},
   "outputs": [],
   "source": [
    "# Drop previous _merge column\n",
    "orders_prior = orders_prior.drop(columns = ['_merge'])"
   ]
  },
  {
   "cell_type": "code",
   "execution_count": 19,
   "id": "b3f9587b",
   "metadata": {},
   "outputs": [
    {
     "data": {
      "text/plain": [
       "Index(['order_id', 'customer_id', 'order_number', 'order_day', 'order_hour',\n",
       "       'previous_order', 'product_id', 'add_to_cart_order', 'reordered',\n",
       "       'product_name', 'department_id', 'prices'],\n",
       "      dtype='object')"
      ]
     },
     "execution_count": 19,
     "metadata": {},
     "output_type": "execute_result"
    }
   ],
   "source": [
    "orders_prior.columns"
   ]
  },
  {
   "cell_type": "code",
   "execution_count": 27,
   "id": "5ed72aab",
   "metadata": {},
   "outputs": [],
   "source": [
    "# Merge the dataframes\n",
    "orders_products_merged = orders_prior.merge(products, on = ['product_id','product_name','department_id','prices'], indicator = True)"
   ]
  },
  {
   "cell_type": "code",
   "execution_count": 28,
   "id": "76b670af",
   "metadata": {},
   "outputs": [
    {
     "data": {
      "text/html": [
       "<div>\n",
       "<style scoped>\n",
       "    .dataframe tbody tr th:only-of-type {\n",
       "        vertical-align: middle;\n",
       "    }\n",
       "\n",
       "    .dataframe tbody tr th {\n",
       "        vertical-align: top;\n",
       "    }\n",
       "\n",
       "    .dataframe thead th {\n",
       "        text-align: right;\n",
       "    }\n",
       "</style>\n",
       "<table border=\"1\" class=\"dataframe\">\n",
       "  <thead>\n",
       "    <tr style=\"text-align: right;\">\n",
       "      <th></th>\n",
       "      <th>order_id</th>\n",
       "      <th>customer_id</th>\n",
       "      <th>order_number</th>\n",
       "      <th>order_day</th>\n",
       "      <th>order_hour</th>\n",
       "      <th>previous_order</th>\n",
       "      <th>product_id</th>\n",
       "      <th>add_to_cart_order</th>\n",
       "      <th>reordered</th>\n",
       "      <th>product_name</th>\n",
       "      <th>department_id</th>\n",
       "      <th>prices</th>\n",
       "      <th>_merge</th>\n",
       "    </tr>\n",
       "  </thead>\n",
       "  <tbody>\n",
       "    <tr>\n",
       "      <th>0</th>\n",
       "      <td>2539329</td>\n",
       "      <td>1</td>\n",
       "      <td>1</td>\n",
       "      <td>2</td>\n",
       "      <td>8</td>\n",
       "      <td>NaN</td>\n",
       "      <td>26088</td>\n",
       "      <td>4</td>\n",
       "      <td>0</td>\n",
       "      <td>Aged White Cheddar Popcorn</td>\n",
       "      <td>19</td>\n",
       "      <td>4.7</td>\n",
       "      <td>both</td>\n",
       "    </tr>\n",
       "    <tr>\n",
       "      <th>1</th>\n",
       "      <td>3169664</td>\n",
       "      <td>363</td>\n",
       "      <td>9</td>\n",
       "      <td>5</td>\n",
       "      <td>14</td>\n",
       "      <td>8.0</td>\n",
       "      <td>26088</td>\n",
       "      <td>19</td>\n",
       "      <td>0</td>\n",
       "      <td>Aged White Cheddar Popcorn</td>\n",
       "      <td>19</td>\n",
       "      <td>4.7</td>\n",
       "      <td>both</td>\n",
       "    </tr>\n",
       "    <tr>\n",
       "      <th>2</th>\n",
       "      <td>554620</td>\n",
       "      <td>1357</td>\n",
       "      <td>4</td>\n",
       "      <td>4</td>\n",
       "      <td>15</td>\n",
       "      <td>30.0</td>\n",
       "      <td>26088</td>\n",
       "      <td>1</td>\n",
       "      <td>1</td>\n",
       "      <td>Aged White Cheddar Popcorn</td>\n",
       "      <td>19</td>\n",
       "      <td>4.7</td>\n",
       "      <td>both</td>\n",
       "    </tr>\n",
       "    <tr>\n",
       "      <th>3</th>\n",
       "      <td>2927564</td>\n",
       "      <td>1357</td>\n",
       "      <td>6</td>\n",
       "      <td>4</td>\n",
       "      <td>9</td>\n",
       "      <td>30.0</td>\n",
       "      <td>26088</td>\n",
       "      <td>3</td>\n",
       "      <td>1</td>\n",
       "      <td>Aged White Cheddar Popcorn</td>\n",
       "      <td>19</td>\n",
       "      <td>4.7</td>\n",
       "      <td>both</td>\n",
       "    </tr>\n",
       "    <tr>\n",
       "      <th>4</th>\n",
       "      <td>1028773</td>\n",
       "      <td>1960</td>\n",
       "      <td>13</td>\n",
       "      <td>0</td>\n",
       "      <td>19</td>\n",
       "      <td>16.0</td>\n",
       "      <td>26088</td>\n",
       "      <td>5</td>\n",
       "      <td>1</td>\n",
       "      <td>Aged White Cheddar Popcorn</td>\n",
       "      <td>19</td>\n",
       "      <td>4.7</td>\n",
       "      <td>both</td>\n",
       "    </tr>\n",
       "  </tbody>\n",
       "</table>\n",
       "</div>"
      ],
      "text/plain": [
       "   order_id  customer_id  order_number  order_day  order_hour  previous_order  \\\n",
       "0   2539329            1             1          2           8             NaN   \n",
       "1   3169664          363             9          5          14             8.0   \n",
       "2    554620         1357             4          4          15            30.0   \n",
       "3   2927564         1357             6          4           9            30.0   \n",
       "4   1028773         1960            13          0          19            16.0   \n",
       "\n",
       "   product_id  add_to_cart_order  reordered                product_name  \\\n",
       "0       26088                  4          0  Aged White Cheddar Popcorn   \n",
       "1       26088                 19          0  Aged White Cheddar Popcorn   \n",
       "2       26088                  1          1  Aged White Cheddar Popcorn   \n",
       "3       26088                  3          1  Aged White Cheddar Popcorn   \n",
       "4       26088                  5          1  Aged White Cheddar Popcorn   \n",
       "\n",
       "   department_id  prices _merge  \n",
       "0             19     4.7   both  \n",
       "1             19     4.7   both  \n",
       "2             19     4.7   both  \n",
       "3             19     4.7   both  \n",
       "4             19     4.7   both  "
      ]
     },
     "execution_count": 28,
     "metadata": {},
     "output_type": "execute_result"
    }
   ],
   "source": [
    "# 6 Confirm the merge\n",
    "orders_products_merged.head()"
   ]
  },
  {
   "cell_type": "code",
   "execution_count": 29,
   "id": "d202f164",
   "metadata": {},
   "outputs": [
    {
     "data": {
      "text/plain": [
       "(6481355, 13)"
      ]
     },
     "execution_count": 29,
     "metadata": {},
     "output_type": "execute_result"
    }
   ],
   "source": [
    "orders_products_merged.shape"
   ]
  },
  {
   "cell_type": "code",
   "execution_count": 31,
   "id": "a0135eda",
   "metadata": {},
   "outputs": [
    {
     "data": {
      "text/plain": [
       "both          6481355\n",
       "left_only           0\n",
       "right_only          0\n",
       "Name: _merge, dtype: int64"
      ]
     },
     "execution_count": 31,
     "metadata": {},
     "output_type": "execute_result"
    }
   ],
   "source": [
    "orders_products_merged['_merge'].value_counts()"
   ]
  },
  {
   "cell_type": "code",
   "execution_count": 32,
   "id": "e6221bf8",
   "metadata": {},
   "outputs": [
    {
     "data": {
      "text/plain": [
       "Index(['order_id', 'customer_id', 'order_number', 'order_day', 'order_hour',\n",
       "       'previous_order', 'product_id', 'add_to_cart_order', 'reordered',\n",
       "       'product_name', 'department_id', 'prices', '_merge'],\n",
       "      dtype='object')"
      ]
     },
     "execution_count": 32,
     "metadata": {},
     "output_type": "execute_result"
    }
   ],
   "source": [
    "orders_products_merged.columns"
   ]
  },
  {
   "cell_type": "code",
   "execution_count": 34,
   "id": "2aec259b",
   "metadata": {},
   "outputs": [
    {
     "data": {
      "text/plain": [
       "4     1894306\n",
       "16    1080621\n",
       "19     577138\n",
       "7      538356\n",
       "1      447793\n",
       "13     374895\n",
       "3      234619\n",
       "15     213526\n",
       "20     209693\n",
       "9      173112\n",
       "17     148095\n",
       "12     141704\n",
       "14     141407\n",
       "11      89254\n",
       "18      84400\n",
       "6       54098\n",
       "5       30878\n",
       "8       19685\n",
       "21      13825\n",
       "2        7163\n",
       "10       6787\n",
       "Name: department_id, dtype: int64"
      ]
     },
     "execution_count": 34,
     "metadata": {},
     "output_type": "execute_result"
    }
   ],
   "source": [
    "# Look at way to replace department_id with department_name\n",
    "orders_products_merged['department_id'].value_counts()"
   ]
  },
  {
   "cell_type": "code",
   "execution_count": 38,
   "id": "dc9d56f6",
   "metadata": {},
   "outputs": [
    {
     "data": {
      "text/html": [
       "<div>\n",
       "<style scoped>\n",
       "    .dataframe tbody tr th:only-of-type {\n",
       "        vertical-align: middle;\n",
       "    }\n",
       "\n",
       "    .dataframe tbody tr th {\n",
       "        vertical-align: top;\n",
       "    }\n",
       "\n",
       "    .dataframe thead th {\n",
       "        text-align: right;\n",
       "    }\n",
       "</style>\n",
       "<table border=\"1\" class=\"dataframe\">\n",
       "  <thead>\n",
       "    <tr style=\"text-align: right;\">\n",
       "      <th></th>\n",
       "      <th>order_id</th>\n",
       "      <th>customer_id</th>\n",
       "      <th>order_number</th>\n",
       "      <th>order_day</th>\n",
       "      <th>order_hour</th>\n",
       "      <th>previous_order</th>\n",
       "      <th>product_id</th>\n",
       "      <th>add_to_cart_order</th>\n",
       "      <th>reordered</th>\n",
       "      <th>product_name</th>\n",
       "      <th>department_id</th>\n",
       "      <th>prices</th>\n",
       "      <th>_merge</th>\n",
       "    </tr>\n",
       "  </thead>\n",
       "  <tbody>\n",
       "    <tr>\n",
       "      <th>0</th>\n",
       "      <td>2539329</td>\n",
       "      <td>1</td>\n",
       "      <td>1</td>\n",
       "      <td>2</td>\n",
       "      <td>8</td>\n",
       "      <td>NaN</td>\n",
       "      <td>26088</td>\n",
       "      <td>4</td>\n",
       "      <td>0</td>\n",
       "      <td>Aged White Cheddar Popcorn</td>\n",
       "      <td>Snacks</td>\n",
       "      <td>4.7</td>\n",
       "      <td>both</td>\n",
       "    </tr>\n",
       "    <tr>\n",
       "      <th>1</th>\n",
       "      <td>3169664</td>\n",
       "      <td>363</td>\n",
       "      <td>9</td>\n",
       "      <td>5</td>\n",
       "      <td>14</td>\n",
       "      <td>8.0</td>\n",
       "      <td>26088</td>\n",
       "      <td>19</td>\n",
       "      <td>0</td>\n",
       "      <td>Aged White Cheddar Popcorn</td>\n",
       "      <td>Snacks</td>\n",
       "      <td>4.7</td>\n",
       "      <td>both</td>\n",
       "    </tr>\n",
       "    <tr>\n",
       "      <th>2</th>\n",
       "      <td>554620</td>\n",
       "      <td>1357</td>\n",
       "      <td>4</td>\n",
       "      <td>4</td>\n",
       "      <td>15</td>\n",
       "      <td>30.0</td>\n",
       "      <td>26088</td>\n",
       "      <td>1</td>\n",
       "      <td>1</td>\n",
       "      <td>Aged White Cheddar Popcorn</td>\n",
       "      <td>Snacks</td>\n",
       "      <td>4.7</td>\n",
       "      <td>both</td>\n",
       "    </tr>\n",
       "    <tr>\n",
       "      <th>3</th>\n",
       "      <td>2927564</td>\n",
       "      <td>1357</td>\n",
       "      <td>6</td>\n",
       "      <td>4</td>\n",
       "      <td>9</td>\n",
       "      <td>30.0</td>\n",
       "      <td>26088</td>\n",
       "      <td>3</td>\n",
       "      <td>1</td>\n",
       "      <td>Aged White Cheddar Popcorn</td>\n",
       "      <td>Snacks</td>\n",
       "      <td>4.7</td>\n",
       "      <td>both</td>\n",
       "    </tr>\n",
       "    <tr>\n",
       "      <th>4</th>\n",
       "      <td>1028773</td>\n",
       "      <td>1960</td>\n",
       "      <td>13</td>\n",
       "      <td>0</td>\n",
       "      <td>19</td>\n",
       "      <td>16.0</td>\n",
       "      <td>26088</td>\n",
       "      <td>5</td>\n",
       "      <td>1</td>\n",
       "      <td>Aged White Cheddar Popcorn</td>\n",
       "      <td>Snacks</td>\n",
       "      <td>4.7</td>\n",
       "      <td>both</td>\n",
       "    </tr>\n",
       "    <tr>\n",
       "      <th>...</th>\n",
       "      <td>...</td>\n",
       "      <td>...</td>\n",
       "      <td>...</td>\n",
       "      <td>...</td>\n",
       "      <td>...</td>\n",
       "      <td>...</td>\n",
       "      <td>...</td>\n",
       "      <td>...</td>\n",
       "      <td>...</td>\n",
       "      <td>...</td>\n",
       "      <td>...</td>\n",
       "      <td>...</td>\n",
       "      <td>...</td>\n",
       "    </tr>\n",
       "    <tr>\n",
       "      <th>6481350</th>\n",
       "      <td>3291167</td>\n",
       "      <td>205795</td>\n",
       "      <td>1</td>\n",
       "      <td>4</td>\n",
       "      <td>19</td>\n",
       "      <td>NaN</td>\n",
       "      <td>2796</td>\n",
       "      <td>1</td>\n",
       "      <td>0</td>\n",
       "      <td>American Blend</td>\n",
       "      <td>Breakfast</td>\n",
       "      <td>2.4</td>\n",
       "      <td>both</td>\n",
       "    </tr>\n",
       "    <tr>\n",
       "      <th>6481351</th>\n",
       "      <td>793185</td>\n",
       "      <td>205839</td>\n",
       "      <td>7</td>\n",
       "      <td>2</td>\n",
       "      <td>20</td>\n",
       "      <td>30.0</td>\n",
       "      <td>12833</td>\n",
       "      <td>1</td>\n",
       "      <td>0</td>\n",
       "      <td>ProSobee Soy Infant Formula Powder</td>\n",
       "      <td>Babies</td>\n",
       "      <td>9.1</td>\n",
       "      <td>both</td>\n",
       "    </tr>\n",
       "    <tr>\n",
       "      <th>6481352</th>\n",
       "      <td>2610511</td>\n",
       "      <td>205883</td>\n",
       "      <td>3</td>\n",
       "      <td>6</td>\n",
       "      <td>14</td>\n",
       "      <td>8.0</td>\n",
       "      <td>29279</td>\n",
       "      <td>16</td>\n",
       "      <td>1</td>\n",
       "      <td>No Salt Potato Chips</td>\n",
       "      <td>Snacks</td>\n",
       "      <td>5.9</td>\n",
       "      <td>both</td>\n",
       "    </tr>\n",
       "    <tr>\n",
       "      <th>6481353</th>\n",
       "      <td>1443724</td>\n",
       "      <td>205893</td>\n",
       "      <td>9</td>\n",
       "      <td>2</td>\n",
       "      <td>15</td>\n",
       "      <td>28.0</td>\n",
       "      <td>11873</td>\n",
       "      <td>34</td>\n",
       "      <td>0</td>\n",
       "      <td>Adrenaline Series Sport Defense Antiperspirant...</td>\n",
       "      <td>Personal Care</td>\n",
       "      <td>4.6</td>\n",
       "      <td>both</td>\n",
       "    </tr>\n",
       "    <tr>\n",
       "      <th>6481354</th>\n",
       "      <td>1538507</td>\n",
       "      <td>206165</td>\n",
       "      <td>25</td>\n",
       "      <td>6</td>\n",
       "      <td>19</td>\n",
       "      <td>0.0</td>\n",
       "      <td>40697</td>\n",
       "      <td>15</td>\n",
       "      <td>1</td>\n",
       "      <td>Burgers, Chile Relleno</td>\n",
       "      <td>Frozen</td>\n",
       "      <td>13.2</td>\n",
       "      <td>both</td>\n",
       "    </tr>\n",
       "  </tbody>\n",
       "</table>\n",
       "<p>6481355 rows × 13 columns</p>\n",
       "</div>"
      ],
      "text/plain": [
       "         order_id  customer_id  order_number  order_day  order_hour  \\\n",
       "0         2539329            1             1          2           8   \n",
       "1         3169664          363             9          5          14   \n",
       "2          554620         1357             4          4          15   \n",
       "3         2927564         1357             6          4           9   \n",
       "4         1028773         1960            13          0          19   \n",
       "...           ...          ...           ...        ...         ...   \n",
       "6481350   3291167       205795             1          4          19   \n",
       "6481351    793185       205839             7          2          20   \n",
       "6481352   2610511       205883             3          6          14   \n",
       "6481353   1443724       205893             9          2          15   \n",
       "6481354   1538507       206165            25          6          19   \n",
       "\n",
       "         previous_order  product_id  add_to_cart_order  reordered  \\\n",
       "0                   NaN       26088                  4          0   \n",
       "1                   8.0       26088                 19          0   \n",
       "2                  30.0       26088                  1          1   \n",
       "3                  30.0       26088                  3          1   \n",
       "4                  16.0       26088                  5          1   \n",
       "...                 ...         ...                ...        ...   \n",
       "6481350             NaN        2796                  1          0   \n",
       "6481351            30.0       12833                  1          0   \n",
       "6481352             8.0       29279                 16          1   \n",
       "6481353            28.0       11873                 34          0   \n",
       "6481354             0.0       40697                 15          1   \n",
       "\n",
       "                                              product_name  department_id  \\\n",
       "0                               Aged White Cheddar Popcorn         Snacks   \n",
       "1                               Aged White Cheddar Popcorn         Snacks   \n",
       "2                               Aged White Cheddar Popcorn         Snacks   \n",
       "3                               Aged White Cheddar Popcorn         Snacks   \n",
       "4                               Aged White Cheddar Popcorn         Snacks   \n",
       "...                                                    ...            ...   \n",
       "6481350                                     American Blend      Breakfast   \n",
       "6481351                 ProSobee Soy Infant Formula Powder         Babies   \n",
       "6481352                               No Salt Potato Chips         Snacks   \n",
       "6481353  Adrenaline Series Sport Defense Antiperspirant...  Personal Care   \n",
       "6481354                             Burgers, Chile Relleno         Frozen   \n",
       "\n",
       "         prices _merge  \n",
       "0           4.7   both  \n",
       "1           4.7   both  \n",
       "2           4.7   both  \n",
       "3           4.7   both  \n",
       "4           4.7   both  \n",
       "...         ...    ...  \n",
       "6481350     2.4   both  \n",
       "6481351     9.1   both  \n",
       "6481352     5.9   both  \n",
       "6481353     4.6   both  \n",
       "6481354    13.2   both  \n",
       "\n",
       "[6481355 rows x 13 columns]"
      ]
     },
     "execution_count": 38,
     "metadata": {},
     "output_type": "execute_result"
    }
   ],
   "source": [
    "# Replace department_id with department name\n",
    "orders_products_merged.replace({'department_id':{1: 'Frozen',2: 'Other',3: 'Bakery',4: 'Produce',5: 'Alcohol',6: 'International',7: 'Beverages',8: 'Pets',9: 'Dry Goods Pasta',10:'Bulk',11: 'Personal Care',12: 'Meat Seafood',13: 'Pantry',14: 'Breakfast',15: 'Canned Goods',16: 'Dairy Eggs',17: 'Household',18: 'Babies',19: 'Snacks',20: 'Deli',21: 'Missing'}})\n",
    "    "
   ]
  },
  {
   "cell_type": "code",
   "execution_count": 39,
   "id": "ff8b8bf2",
   "metadata": {},
   "outputs": [
    {
     "data": {
      "text/plain": [
       "4     1894306\n",
       "16    1080621\n",
       "19     577138\n",
       "7      538356\n",
       "1      447793\n",
       "13     374895\n",
       "3      234619\n",
       "15     213526\n",
       "20     209693\n",
       "9      173112\n",
       "17     148095\n",
       "12     141704\n",
       "14     141407\n",
       "11      89254\n",
       "18      84400\n",
       "6       54098\n",
       "5       30878\n",
       "8       19685\n",
       "21      13825\n",
       "2        7163\n",
       "10       6787\n",
       "Name: department_id, dtype: int64"
      ]
     },
     "execution_count": 39,
     "metadata": {},
     "output_type": "execute_result"
    }
   ],
   "source": [
    "orders_products_merged['department_id'].value_counts()"
   ]
  },
  {
   "cell_type": "code",
   "execution_count": 41,
   "id": "e7403bdc",
   "metadata": {},
   "outputs": [],
   "source": [
    "# 7 Export to pkl\n",
    "orders_products_merged.to_pickle(os.path.join(path,'Prepared Data', 'orders_products_final_merge.pkl'))"
   ]
  },
  {
   "cell_type": "code",
   "execution_count": null,
   "id": "08d26101",
   "metadata": {},
   "outputs": [],
   "source": []
  }
 ],
 "metadata": {
  "kernelspec": {
   "display_name": "Python 3 (ipykernel)",
   "language": "python",
   "name": "python3"
  },
  "language_info": {
   "codemirror_mode": {
    "name": "ipython",
    "version": 3
   },
   "file_extension": ".py",
   "mimetype": "text/x-python",
   "name": "python",
   "nbconvert_exporter": "python",
   "pygments_lexer": "ipython3",
   "version": "3.9.13"
  }
 },
 "nbformat": 4,
 "nbformat_minor": 5
}
